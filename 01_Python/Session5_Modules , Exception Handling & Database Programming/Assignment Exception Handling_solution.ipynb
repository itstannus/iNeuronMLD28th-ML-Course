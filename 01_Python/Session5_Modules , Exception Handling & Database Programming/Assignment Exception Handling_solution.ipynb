{
 "cells": [
  {
   "cell_type": "markdown",
   "metadata": {},
   "source": [
    "# Assignment Exception Handling"
   ]
  },
  {
   "cell_type": "markdown",
   "metadata": {},
   "source": [
    "\n",
    "1. Write a function to compute 5/0 and use try/except to catch the exceptions.\n"
   ]
  },
  {
   "cell_type": "code",
   "execution_count": 20,
   "metadata": {},
   "outputs": [
    {
     "name": "stdout",
     "output_type": "stream",
     "text": [
      "Error :  division by zero\n"
     ]
    }
   ],
   "source": [
    "def division(num, denom):\n",
    "    try:\n",
    "        return num/denom\n",
    "    except Exception as e:\n",
    "        print(\"Error : \", e)\n",
    "\n",
    "        \n",
    "division(5,0)\n",
    "# print(\"5/0 : \",division(5,0))\n",
    "# print(\"0/5 : \", division(0,5))\n",
    "# print(\"5/5 : \", division(5,5))"
   ]
  },
  {
   "cell_type": "markdown",
   "metadata": {},
   "source": [
    "--------------"
   ]
  },
  {
   "cell_type": "markdown",
   "metadata": {},
   "source": [
    "2. Implement a Python program to generate all sentences where \n",
    "subject is in [\"Americans\", \"Indians\"] and \n",
    "<br>\n",
    "verb is in [\"Play\", \"watch\"] and \n",
    "<br>\n",
    "the object is in [\"Baseball\",\"cricket\"].\n",
    "<br>\n",
    "Hint: Subject,Verb and Object should be declared in the program as shown below.\n",
    "<br>\n",
    "subjects=[\"Americans \",\"Indians\"]\n",
    "<br>\n",
    "verbs=[\"play\",\"watch\"]\n",
    "<br>\n",
    "objects=[\"Baseball\",\"Cricket\"]\n",
    "<br>\n",
    "Output should come as below:\n",
    "<br>\n",
    "Americans play Baseball.\n",
    "<br>\n",
    "Americans play Cricket.\n",
    "<br>\n",
    "Americans watch Baseball.\n",
    "<br>\n",
    "Americans watch Cricket.\n",
    "<br>\n",
    "Indians play Baseball.\n",
    "<br>\n",
    "Indians play Cricket.\n",
    "<br>\n",
    "Indians watch Baseball.\n",
    "<br>\n",
    "Indians watch Cricket."
   ]
  },
  {
   "cell_type": "code",
   "execution_count": 21,
   "metadata": {},
   "outputs": [],
   "source": [
    "def generateSentences(subjects, verbs, objects):\n",
    "    sentences=[]\n",
    "    try:\n",
    "        [sentences.append(\"%s %s %s.\"%(subject, verb, obj)) for subject in subjects for verb in verbs for obj in objects]\n",
    "    except Exception as e:\n",
    "        print(\"Error : \", e)\n",
    "    return sentences\n"
   ]
  },
  {
   "cell_type": "code",
   "execution_count": 22,
   "metadata": {},
   "outputs": [
    {
     "name": "stdout",
     "output_type": "stream",
     "text": [
      "Americans  play Baseball.\n",
      "Americans  play Cricket.\n",
      "Americans  watch Baseball.\n",
      "Americans  watch Cricket.\n",
      "Indians play Baseball.\n",
      "Indians play Cricket.\n",
      "Indians watch Baseball.\n",
      "Indians watch Cricket.\n"
     ]
    }
   ],
   "source": [
    "subjects=[\"Americans \",\"Indians\"]\n",
    "verbs=[\"play\",\"watch\"]\n",
    "objects=[\"Baseball\",\"Cricket\"]\n",
    "\n",
    "print(*generateSentences(subjects, verbs, objects), sep=\"\\n\")"
   ]
  },
  {
   "cell_type": "code",
   "execution_count": 27,
   "metadata": {},
   "outputs": [
    {
     "name": "stdout",
     "output_type": "stream",
     "text": [
      "Error :  'int' object is not iterable\n",
      "\n"
     ]
    }
   ],
   "source": [
    "subjects=1\n",
    "verbs=[\"play\",\"watch\"]\n",
    "objects=[\"Baseball\",\"Cricket\"]\n",
    "\n",
    "print(*generateSentences(subjects, verbs, objects), sep=\"\\n\")"
   ]
  },
  {
   "cell_type": "markdown",
   "metadata": {},
   "source": [
    "----------"
   ]
  }
 ],
 "metadata": {
  "kernelspec": {
   "display_name": "Python 3",
   "language": "python",
   "name": "python3"
  },
  "language_info": {
   "codemirror_mode": {
    "name": "ipython",
    "version": 3
   },
   "file_extension": ".py",
   "mimetype": "text/x-python",
   "name": "python",
   "nbconvert_exporter": "python",
   "pygments_lexer": "ipython3",
   "version": "3.7.3"
  }
 },
 "nbformat": 4,
 "nbformat_minor": 4
}
