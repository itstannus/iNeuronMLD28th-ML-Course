{
 "cells": [
  {
   "cell_type": "code",
   "execution_count": 1,
   "metadata": {},
   "outputs": [],
   "source": [
    "#Write a Python program to check if all dictionaries in a list are empty or not."
   ]
  },
  {
   "cell_type": "code",
   "execution_count": null,
   "metadata": {},
   "outputs": [],
   "source": [
    "lst1 = [{},{},{}]\n",
    "lst2=[dict(one=1), dict(), {}]\n",
    "print(all(not d for d in lst1))\n",
    "print(all(not d for d in lst2))"
   ]
  },
  {
   "cell_type": "code",
   "execution_count": 2,
   "metadata": {},
   "outputs": [
    {
     "data": {
      "text/plain": [
       "False"
      ]
     },
     "execution_count": 2,
     "metadata": {},
     "output_type": "execute_result"
    }
   ],
   "source": [
    "# my solution\n",
    "lst=[1,2, dict(one=1), dict(), {}]\n",
    "def check_all_empty_dict(lst):\n",
    "    for elem in lst:\n",
    "        if type(elem)==dict and len(elem.items())!=0:\n",
    "            return False\n",
    "    return True    \n",
    "\n",
    "check_all_empty_dict(lst)"
   ]
  },
  {
   "cell_type": "code",
   "execution_count": 3,
   "metadata": {},
   "outputs": [
    {
     "data": {
      "text/plain": [
       "dict"
      ]
     },
     "execution_count": 3,
     "metadata": {},
     "output_type": "execute_result"
    }
   ],
   "source": [
    "dct= {}\n",
    "len(dct.items())\n",
    "type(dct)\n"
   ]
  },
  {
   "cell_type": "code",
   "execution_count": 5,
   "metadata": {},
   "outputs": [
    {
     "data": {
      "text/plain": [
       "True"
      ]
     },
     "execution_count": 5,
     "metadata": {},
     "output_type": "execute_result"
    }
   ],
   "source": [
    "not dct"
   ]
  },
  {
   "cell_type": "markdown",
   "metadata": {},
   "source": [
    "---------------------"
   ]
  },
  {
   "cell_type": "code",
   "execution_count": 10,
   "metadata": {},
   "outputs": [],
   "source": [
    "#Write a Python program to remove duplicates from a list of lists."
   ]
  },
  {
   "cell_type": "code",
   "execution_count": 18,
   "metadata": {},
   "outputs": [
    {
     "name": "stdout",
     "output_type": "stream",
     "text": [
      "[[20, 110], [2], [4, 3, 55]]\n"
     ]
    }
   ],
   "source": [
    "outerlst=[[110,20,110],[2],[3,4,3,55,55]]\n",
    "for lst in outerlst:\n",
    "    for num in lst:\n",
    "        if lst.count(num)>1:\n",
    "            lst.remove(num)\n",
    "print(outerlst)"
   ]
  },
  {
   "cell_type": "code",
   "execution_count": 21,
   "metadata": {},
   "outputs": [
    {
     "name": "stdout",
     "output_type": "stream",
     "text": [
      "Original List [[110, 120], [240], [330, 456, 425], [310, 220], [133], [240]]\n",
      "[[110, 120], [133], [240], [240], [310, 220], [330, 456, 425]]\n",
      "New List [[110, 120], [133], [240], [310, 220], [330, 456, 425]]\n"
     ]
    }
   ],
   "source": [
    "import itertools\n",
    "num = [[110, 120], [240], [330, 456, 425], [310, 220], [133], [240]]\n",
    "print(\"Original List\", num)\n",
    "num.sort()\n",
    "print(num)\n",
    "new_num = list(num for num,_ in itertools.groupby(num)) #-------- chck working\n",
    "print(\"New List\", new_num)"
   ]
  }
 ],
 "metadata": {
  "kernelspec": {
   "display_name": "Python 3",
   "language": "python",
   "name": "python3"
  },
  "language_info": {
   "codemirror_mode": {
    "name": "ipython",
    "version": 3
   },
   "file_extension": ".py",
   "mimetype": "text/x-python",
   "name": "python",
   "nbconvert_exporter": "python",
   "pygments_lexer": "ipython3",
   "version": "3.7.3"
  }
 },
 "nbformat": 4,
 "nbformat_minor": 4
}
