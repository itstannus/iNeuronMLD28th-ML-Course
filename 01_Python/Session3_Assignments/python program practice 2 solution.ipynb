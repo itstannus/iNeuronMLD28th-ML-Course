{
 "cells": [
  {
   "cell_type": "code",
   "execution_count": 1,
   "metadata": {},
   "outputs": [],
   "source": [
    "#1. Write a Python program to check if all dictionaries in a list are empty or not."
   ]
  },
  {
   "cell_type": "code",
   "execution_count": null,
   "metadata": {},
   "outputs": [],
   "source": [
    "#solution1\n",
    "lst1 = [{},{},{}]\n",
    "lst2=[dict(one=1), dict(), {}]\n",
    "print(all(not d for d in lst1))\n",
    "print(all(not d for d in lst2))"
   ]
  },
  {
   "cell_type": "code",
   "execution_count": 2,
   "metadata": {},
   "outputs": [
    {
     "data": {
      "text/plain": [
       "False"
      ]
     },
     "execution_count": 2,
     "metadata": {},
     "output_type": "execute_result"
    }
   ],
   "source": [
    "# my solution\n",
    "lst=[1,2, dict(one=1), dict(), {}]\n",
    "def check_all_empty_dict(lst):\n",
    "    for elem in lst:\n",
    "        if type(elem)==dict and len(elem.items())!=0:\n",
    "            return False\n",
    "    return True    \n",
    "\n",
    "check_all_empty_dict(lst)"
   ]
  },
  {
   "cell_type": "code",
   "execution_count": 3,
   "metadata": {},
   "outputs": [
    {
     "data": {
      "text/plain": [
       "dict"
      ]
     },
     "execution_count": 3,
     "metadata": {},
     "output_type": "execute_result"
    }
   ],
   "source": [
    "dct= {}\n",
    "len(dct.items())\n",
    "type(dct)\n"
   ]
  },
  {
   "cell_type": "code",
   "execution_count": 5,
   "metadata": {},
   "outputs": [
    {
     "data": {
      "text/plain": [
       "True"
      ]
     },
     "execution_count": 5,
     "metadata": {},
     "output_type": "execute_result"
    }
   ],
   "source": [
    "not dct"
   ]
  },
  {
   "cell_type": "markdown",
   "metadata": {},
   "source": [
    "---------------------"
   ]
  },
  {
   "cell_type": "code",
   "execution_count": 10,
   "metadata": {},
   "outputs": [],
   "source": [
    "#2. Write a Python program to remove duplicates from a list of lists."
   ]
  },
  {
   "cell_type": "code",
   "execution_count": 25,
   "metadata": {},
   "outputs": [],
   "source": [
    "# outerlst=[[110, 120,110], [240], [330, 456, 425, 330, 330], [310, 220], [133], [240]]\n",
    "# for lst in outerlst:\n",
    "#     for num in lst:\n",
    "#         if lst.count(num)>1:\n",
    "#             lst.remove(num)\n",
    "# print(outerlst)\n",
    "\n",
    "#Output : [[120, 110], [240], [456, 425, 330], [310, 220], [133], [240]]\n",
    "\n",
    "# Above code does not check remove duplicate inner list like [240]"
   ]
  },
  {
   "cell_type": "code",
   "execution_count": 39,
   "metadata": {},
   "outputs": [
    {
     "name": "stdout",
     "output_type": "stream",
     "text": [
      "Original List [[110, 120, 110], [240], [330, 456, 425, 330, 330], [310, 220], [133], [240]]\n",
      "\n",
      "[[110, 120, 110], [133], [240], [240], [310, 220], [330, 456, 425, 330, 330]]\n",
      "\n",
      "New List [[110, 120, 110], [133], [240], [310, 220], [330, 456, 425, 330, 330]]\n"
     ]
    }
   ],
   "source": [
    "#solution1\n",
    "import itertools\n",
    "num = [[110, 120, 110], [240], [330, 456, 425,330, 330], [310, 220], [133], [240]]\n",
    "print(\"Original List\", num)\n",
    "print()\n",
    "num.sort() # mandate\n",
    "print(num)\n",
    "new_num = list(num for num,_ in itertools.groupby(num)) #-------- chck working\n",
    "print()\n",
    "print(\"New List\", new_num)"
   ]
  },
  {
   "cell_type": "code",
   "execution_count": 50,
   "metadata": {},
   "outputs": [
    {
     "name": "stdout",
     "output_type": "stream",
     "text": [
      "<itertools.groupby object at 0x7f0d49fc3938>\n",
      "\n",
      "[110, 120, 110] <itertools._grouper object at 0x7f0d48b86d68>\n",
      "[133] <itertools._grouper object at 0x7f0d48853b00>\n",
      "[240] <itertools._grouper object at 0x7f0d48b86d68>\n",
      "[310, 220] <itertools._grouper object at 0x7f0d48b861d0>\n",
      "[330, 456, 425, 330, 330] <itertools._grouper object at 0x7f0d48b86240>\n",
      "[240] <itertools._grouper object at 0x7f0d48b861d0>\n"
     ]
    }
   ],
   "source": [
    "num = [[110, 120, 110], [133], [240], [310, 220], [330, 456, 425, 330, 330], [240]]\n",
    "print(itertools.groupby(num))\n",
    "print()\n",
    "# for num,_ in itertools.groupby(num) : \n",
    "#     for group in _:\n",
    "#         print(num,group)\n",
    "        \n",
    "for num,_ in itertools.groupby(num) : \n",
    "        print(num,_)\n"
   ]
  },
  {
   "cell_type": "code",
   "execution_count": 52,
   "metadata": {},
   "outputs": [],
   "source": [
    "#3. Write a Python program to extend a list without append."
   ]
  },
  {
   "cell_type": "code",
   "execution_count": 54,
   "metadata": {},
   "outputs": [
    {
     "data": {
      "text/plain": [
       "[1, 2, 3, 4]"
      ]
     },
     "execution_count": 54,
     "metadata": {},
     "output_type": "execute_result"
    }
   ],
   "source": [
    "lst=[1,2]\n",
    "lst.extend([3,4])\n",
    "lst"
   ]
  },
  {
   "cell_type": "code",
   "execution_count": 56,
   "metadata": {},
   "outputs": [
    {
     "data": {
      "text/plain": [
       "[1, 2, 3, 4]"
      ]
     },
     "execution_count": 56,
     "metadata": {},
     "output_type": "execute_result"
    }
   ],
   "source": [
    "#my solution\n",
    "lst=[1,2]\n",
    "lst2 = [3,4]\n",
    "lst+lst2"
   ]
  },
  {
   "cell_type": "code",
   "execution_count": 59,
   "metadata": {},
   "outputs": [
    {
     "name": "stdout",
     "output_type": "stream",
     "text": [
      "[103, 320, 430, 403, 503, 603]\n"
     ]
    }
   ],
   "source": [
    "#solution1 \n",
    "x = [103, 320, 430]\n",
    "y = [403, 503, 603]\n",
    "x[len(x):] =y ## insert before index mentioned\n",
    "print(x)"
   ]
  },
  {
   "cell_type": "code",
   "execution_count": 60,
   "metadata": {},
   "outputs": [],
   "source": [
    "#4. Write a Python program to find the list in a list of lists whose sum of elements is the highest"
   ]
  },
  {
   "cell_type": "code",
   "execution_count": 65,
   "metadata": {},
   "outputs": [
    {
     "name": "stdout",
     "output_type": "stream",
     "text": [
      "[10, 11, 12]\n"
     ]
    }
   ],
   "source": [
    "#my solution\n",
    "from functools import reduce\n",
    "def find_max_list(outerlst):\n",
    "    max= 0\n",
    "    maxlst=[]\n",
    "    for lst in outerlst:\n",
    "        s= sum(lst)\n",
    "        if(s> max):\n",
    "            maxlst= lst\n",
    "            max= s\n",
    "    return maxlst\n",
    "\n",
    "num = [[1,2,3], [4,5,6], [10,11,12], [7,8,9]]\n",
    "print(find_max_list(num))\n"
   ]
  },
  {
   "cell_type": "code",
   "execution_count": 63,
   "metadata": {},
   "outputs": [
    {
     "name": "stdout",
     "output_type": "stream",
     "text": [
      "[10, 11, 12]\n"
     ]
    }
   ],
   "source": [
    "#solution 1\n",
    "num = [[1,2,3], [4,5,6], [10,11,12], [7,8,9]]\n",
    "print(max(num, key=sum))\n",
    "#key func is used for making comparison"
   ]
  },
  {
   "cell_type": "code",
   "execution_count": null,
   "metadata": {},
   "outputs": [],
   "source": [
    "#5. Write a Python program to access dictionary key’s element by index."
   ]
  },
  {
   "cell_type": "code",
   "execution_count": 68,
   "metadata": {},
   "outputs": [
    {
     "ename": "KeyError",
     "evalue": "0",
     "output_type": "error",
     "traceback": [
      "\u001b[0;31m---------------------------------------------------------------------------\u001b[0m",
      "\u001b[0;31mKeyError\u001b[0m                                  Traceback (most recent call last)",
      "\u001b[0;32m<ipython-input-68-b52be722ce1e>\u001b[0m in \u001b[0;36m<module>\u001b[0;34m\u001b[0m\n\u001b[1;32m      1\u001b[0m \u001b[0mdct\u001b[0m\u001b[0;34m=\u001b[0m\u001b[0;34m{\u001b[0m\u001b[0;34m\"name\"\u001b[0m\u001b[0;34m:\u001b[0m\u001b[0;34m\"Tanvi\"\u001b[0m\u001b[0;34m,\u001b[0m\u001b[0;34m\"age\"\u001b[0m\u001b[0;34m:\u001b[0m\u001b[0;36m27\u001b[0m\u001b[0;34m}\u001b[0m\u001b[0;34m\u001b[0m\u001b[0;34m\u001b[0m\u001b[0m\n\u001b[0;32m----> 2\u001b[0;31m \u001b[0mdct\u001b[0m\u001b[0;34m[\u001b[0m\u001b[0;36m0\u001b[0m\u001b[0;34m]\u001b[0m\u001b[0;34m\u001b[0m\u001b[0;34m\u001b[0m\u001b[0m\n\u001b[0m",
      "\u001b[0;31mKeyError\u001b[0m: 0"
     ]
    }
   ],
   "source": [
    "dct={\"name\":\"Tanvi\",\"age\":27}"
   ]
  },
  {
   "cell_type": "code",
   "execution_count": 76,
   "metadata": {},
   "outputs": [
    {
     "data": {
      "text/plain": [
       "27"
      ]
     },
     "execution_count": 76,
     "metadata": {},
     "output_type": "execute_result"
    }
   ],
   "source": [
    "#my solution\n",
    "def get_by_index(dct, index):\n",
    "    return list(dct.items())[index][1]\n",
    "\n",
    "dct={\"name\":\"Tanvi\",\"age\":27}\n",
    "get_by_index(dct, 1)"
   ]
  },
  {
   "cell_type": "code",
   "execution_count": 77,
   "metadata": {},
   "outputs": [
    {
     "name": "stdout",
     "output_type": "stream",
     "text": [
      "stats\n"
     ]
    }
   ],
   "source": [
    "#solution\n",
    "num = {'stats': 80, 'math': 90, 'algorithm': 86}\n",
    "print(list(num)[0])"
   ]
  },
  {
   "cell_type": "code",
   "execution_count": 78,
   "metadata": {},
   "outputs": [
    {
     "data": {
      "text/plain": [
       "['stats', 'math', 'algorithm']"
      ]
     },
     "execution_count": 78,
     "metadata": {},
     "output_type": "execute_result"
    }
   ],
   "source": [
    "list(num)# on keys"
   ]
  },
  {
   "cell_type": "code",
   "execution_count": 79,
   "metadata": {},
   "outputs": [
    {
     "data": {
      "text/plain": [
       "[80, 90, 86]"
      ]
     },
     "execution_count": 79,
     "metadata": {},
     "output_type": "execute_result"
    }
   ],
   "source": [
    "list(num.values())"
   ]
  },
  {
   "cell_type": "code",
   "execution_count": null,
   "metadata": {},
   "outputs": [],
   "source": [
    "#6. Write a Python program to iterate over two lists simultaneously."
   ]
  },
  {
   "cell_type": "code",
   "execution_count": 81,
   "metadata": {},
   "outputs": [
    {
     "name": "stdout",
     "output_type": "stream",
     "text": [
      "1\n",
      "4\n",
      "2\n",
      "5\n",
      "3\n",
      "6\n",
      "7\n",
      "8\n",
      "9\n"
     ]
    }
   ],
   "source": [
    "# my solution - loops for all, i.e for longest list elems of the 2 iterables\n",
    "lst1=[1,2,3]\n",
    "lst2=[4,5,6,7,8,9]\n",
    "maxlen = max(len(lst1), len(lst2))\n",
    "for i in range(maxlen):\n",
    "    if i < len(lst1):\n",
    "        print(lst1[i]) # access element of list 1\n",
    "    if i < len(lst2):\n",
    "        print(lst2[i]) # access element of list 1"
   ]
  },
  {
   "cell_type": "code",
   "execution_count": 83,
   "metadata": {},
   "outputs": [
    {
     "name": "stdout",
     "output_type": "stream",
     "text": [
      "1 red\n",
      "2 while\n",
      "3 black\n"
     ]
    }
   ],
   "source": [
    "# solution 1 - loops till shortest of the 2 iterables\n",
    "num = [1, 2, 3]\n",
    "color = ['red', 'while', 'black','orange','pink']\n",
    "for (a,b) in zip(num, color):\n",
    " print(a, b)"
   ]
  },
  {
   "cell_type": "code",
   "execution_count": null,
   "metadata": {},
   "outputs": [],
   "source": [
    "#7. write a program to insert a string at the begining of every elements in a list"
   ]
  },
  {
   "cell_type": "code",
   "execution_count": 85,
   "metadata": {},
   "outputs": [
    {
     "name": "stdout",
     "output_type": "stream",
     "text": [
      "['ss100', 'ss200', 'ss300']\n"
     ]
    }
   ],
   "source": [
    "#my solution\n",
    "string=\"ss\"\n",
    "lst=[100,200,300]\n",
    "print([\"%s%s\"%(string,item) for item in lst])\n",
    "    "
   ]
  },
  {
   "cell_type": "code",
   "execution_count": 87,
   "metadata": {},
   "outputs": [
    {
     "name": "stdout",
     "output_type": "stream",
     "text": [
      "['customer100', 'customer123', 'customer345', 'customer567', 'customer789', 'customer890', 'customer98', 'customer876', 'customer543', 'customer678']\n"
     ]
    }
   ],
   "source": [
    "#solution 1\n",
    "a = [100,123,345,567,789,890,98,876,543,678]\n",
    "#enter customer before each element\n",
    "print(['customer{0}'.format(i) for i in a])"
   ]
  },
  {
   "cell_type": "code",
   "execution_count": null,
   "metadata": {},
   "outputs": [],
   "source": [
    "#8. write a program to take two lists and print if they have at least one common member"
   ]
  },
  {
   "cell_type": "code",
   "execution_count": 90,
   "metadata": {},
   "outputs": [
    {
     "data": {
      "text/plain": [
       "{10}"
      ]
     },
     "execution_count": 90,
     "metadata": {},
     "output_type": "execute_result"
    }
   ],
   "source": [
    "lst1=[10,20,30]\n",
    "lst2=[10,40,60]\n",
    "\n",
    "set(lst1) & set(lst2)"
   ]
  },
  {
   "cell_type": "code",
   "execution_count": 93,
   "metadata": {},
   "outputs": [
    {
     "name": "stdout",
     "output_type": "stream",
     "text": [
      "True\n",
      "False\n"
     ]
    }
   ],
   "source": [
    "#my solution\n",
    "def check_common(lst1, lst2):\n",
    "    for i in lst1:\n",
    "        for j in lst2:\n",
    "            if i==j:\n",
    "                return True\n",
    "    return False\n",
    "\n",
    "print(check_common(lst1, lst2))\n",
    "print(check_common([1,2,3,4,5], [6,7,8,9]))"
   ]
  },
  {
   "cell_type": "code",
   "execution_count": null,
   "metadata": {},
   "outputs": [],
   "source": [
    "#9. compute all permutations in a list"
   ]
  },
  {
   "cell_type": "code",
   "execution_count": 94,
   "metadata": {},
   "outputs": [
    {
     "name": "stdout",
     "output_type": "stream",
     "text": [
      "[(12, 22, 23), (12, 23, 22), (22, 12, 23), (22, 23, 12), (23, 12, 22), (23, 22, 12)]\n"
     ]
    }
   ],
   "source": [
    "#solution\n",
    "import itertools\n",
    "print(list(itertools.permutations([12,22,23])))"
   ]
  },
  {
   "cell_type": "code",
   "execution_count": 95,
   "metadata": {},
   "outputs": [
    {
     "name": "stdout",
     "output_type": "stream",
     "text": [
      "[(12, 22), (12, 23), (22, 12), (22, 23), (23, 12), (23, 22)]\n"
     ]
    }
   ],
   "source": [
    "print(list(itertools.permutations([12,22,23], 2)))"
   ]
  },
  {
   "cell_type": "code",
   "execution_count": 96,
   "metadata": {},
   "outputs": [
    {
     "data": {
      "text/plain": [
       "<itertools.permutations at 0x7f0d48bdc990>"
      ]
     },
     "execution_count": 96,
     "metadata": {},
     "output_type": "execute_result"
    }
   ],
   "source": [
    "itertools.permutations([12,22,23])"
   ]
  },
  {
   "cell_type": "code",
   "execution_count": null,
   "metadata": {},
   "outputs": [],
   "source": []
  }
 ],
 "metadata": {
  "kernelspec": {
   "display_name": "Python 3",
   "language": "python",
   "name": "python3"
  },
  "language_info": {
   "codemirror_mode": {
    "name": "ipython",
    "version": 3
   },
   "file_extension": ".py",
   "mimetype": "text/x-python",
   "name": "python",
   "nbconvert_exporter": "python",
   "pygments_lexer": "ipython3",
   "version": "3.7.3"
  }
 },
 "nbformat": 4,
 "nbformat_minor": 4
}
