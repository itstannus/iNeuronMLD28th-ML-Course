{
 "cells": [
  {
   "cell_type": "markdown",
   "metadata": {},
   "source": [
    "# Python Practice 3"
   ]
  },
  {
   "cell_type": "code",
   "execution_count": 11,
   "metadata": {},
   "outputs": [],
   "source": [
    "# create a dictionary\n",
    "dict1 = {'data': '123',\n",
    " 'science':'234',\n",
    " 'AI': '235'}"
   ]
  },
  {
   "cell_type": "code",
   "execution_count": null,
   "metadata": {},
   "outputs": [],
   "source": [
    "# write a program to sort a dictionary by key."
   ]
  },
  {
   "cell_type": "code",
   "execution_count": 27,
   "metadata": {},
   "outputs": [
    {
     "data": {
      "text/plain": [
       "{'AI': '235', 'data': '123', 'science': '234'}"
      ]
     },
     "execution_count": 27,
     "metadata": {},
     "output_type": "execute_result"
    }
   ],
   "source": [
    "#my solution\n",
    "l = list(dict1.items())\n",
    "l.sort(key = lambda item : item[0])\n",
    "dict(l)"
   ]
  },
  {
   "cell_type": "code",
   "execution_count": 30,
   "metadata": {},
   "outputs": [
    {
     "data": {
      "text/plain": [
       "{'AI': '235', 'data': '123', 'science': '234'}"
      ]
     },
     "execution_count": 30,
     "metadata": {},
     "output_type": "execute_result"
    }
   ],
   "source": [
    "#solution 2\n",
    "dict(sorted(dict1.items(), key = lambda item : item[0]))"
   ]
  },
  {
   "cell_type": "code",
   "execution_count": 31,
   "metadata": {},
   "outputs": [
    {
     "name": "stdout",
     "output_type": "stream",
     "text": [
      "AI: 235\n",
      "data: 123\n",
      "science: 234\n"
     ]
    }
   ],
   "source": [
    "#solution 3\n",
    "for key in sorted(dict1):\n",
    " print(\"%s: %s\" % (key, dict1[key]))"
   ]
  },
  {
   "cell_type": "code",
   "execution_count": null,
   "metadata": {},
   "outputs": [],
   "source": [
    "#Write a Python program to get a dictionary from an object's fields."
   ]
  },
  {
   "cell_type": "code",
   "execution_count": 35,
   "metadata": {},
   "outputs": [
    {
     "name": "stdout",
     "output_type": "stream",
     "text": [
      "{'x': 'val1', 'y': 'val2', 'z': 'val3'}\n"
     ]
    }
   ],
   "source": [
    "class Sampledict:\n",
    "    def __init__(self):\n",
    "        self.x = \"val1\"\n",
    "        self.y = \"val2\"\n",
    "        self.z = \"val3\"\n",
    "        \n",
    "    def do_nothing(self):\n",
    "        pass\n",
    "\n",
    "obj=Sampledict()\n",
    "print(obj.__dict__)\n",
    "# dir(obj)"
   ]
  },
  {
   "cell_type": "code",
   "execution_count": null,
   "metadata": {},
   "outputs": [],
   "source": [
    "# write a program to remove duplicates from Dictionary."
   ]
  },
  {
   "cell_type": "code",
   "execution_count": 44,
   "metadata": {},
   "outputs": [
    {
     "data": {
      "text/plain": [
       "True"
      ]
     },
     "execution_count": 44,
     "metadata": {},
     "output_type": "execute_result"
    }
   ],
   "source": [
    "student_data = {'id1':\n",
    " {'name': ['Sara'],\n",
    " 'class': ['V'],\n",
    " 'subject_integration': ['english, math, science']\n",
    " },\n",
    "'id2':\n",
    "{'name': ['David'],\n",
    " 'class': ['V'],\n",
    " 'subject_integration': ['english, math, science']\n",
    " },\n",
    "'id3':\n",
    " {'name': ['Sara'],\n",
    " 'class': ['V'],\n",
    " 'subject_integration': ['english, math, science']\n",
    " },\n",
    "'id4':\n",
    " {'name': ['Surya'],\n",
    " 'class': ['V'],\n",
    " 'subject_integration': ['english, math, science']\n",
    " },\n",
    "}\n",
    "\n",
    "check = {'name': ['Sara'], 'class': ['V'], 'subject_integration': ['english, math, science']}\n",
    "check in student_data.values()\n",
    "#entire object values is matched\n",
    "#what is internal implemmentation of 'in' operator for dict"
   ]
  },
  {
   "cell_type": "code",
   "execution_count": 46,
   "metadata": {},
   "outputs": [
    {
     "data": {
      "text/plain": [
       "{'id1': {'name': ['Sara'],\n",
       "  'class': ['V'],\n",
       "  'subject_integration': ['english, math, science']},\n",
       " 'id2': {'name': ['David'],\n",
       "  'class': ['V'],\n",
       "  'subject_integration': ['english, math, science']},\n",
       " 'id4': {'name': ['Surya'],\n",
       "  'class': ['V'],\n",
       "  'subject_integration': ['english, math, science']}}"
      ]
     },
     "execution_count": 46,
     "metadata": {},
     "output_type": "execute_result"
    }
   ],
   "source": [
    "result={}\n",
    "for key,value in student_data.items():\n",
    "    if value not in result.values():\n",
    "        result[key]=value\n",
    "\n",
    "result"
   ]
  },
  {
   "cell_type": "code",
   "execution_count": null,
   "metadata": {},
   "outputs": [],
   "source": [
    "# write a program to combine two dictionary adding values for common keys"
   ]
  },
  {
   "cell_type": "code",
   "execution_count": 50,
   "metadata": {},
   "outputs": [
    {
     "data": {
      "text/plain": [
       "{'a': 1300, 'b': 3400, 'c': 1300, 'd': 400}"
      ]
     },
     "execution_count": 50,
     "metadata": {},
     "output_type": "execute_result"
    }
   ],
   "source": [
    "#my solution\n",
    "d1 = {'a': 1000, 'b': 3200, 'c':1300}\n",
    "d2 = {'a': 300, 'b': 200, 'd':400}\n",
    "\n",
    "d3={}\n",
    "d3=dict(d1)\n",
    "\n",
    "for key in d2.keys():\n",
    "    if key in d3.keys():\n",
    "        d3[key] = d3[key] + d2[key]\n",
    "    else:\n",
    "        d3[key] = d2[key]\n",
    "d3"
   ]
  },
  {
   "cell_type": "markdown",
   "metadata": {},
   "source": [
    "# Counter\n",
    "**Dict subclass** for counting hashable items.  Sometimes called a **bag**\n",
    "or **multiset**.  Elements are stored as dictionary keys and their counts\n",
    "are stored as dictionary values."
   ]
  },
  {
   "cell_type": "code",
   "execution_count": 1,
   "metadata": {},
   "outputs": [
    {
     "name": "stdout",
     "output_type": "stream",
     "text": [
      "Counter({'b': 3400, 'a': 1300, 'c': 1300, 'd': 400})\n"
     ]
    }
   ],
   "source": [
    "#solution 2\n",
    "from collections import Counter\n",
    "d1 = {'a': 1000, 'b': 3200, 'c':1300}\n",
    "d2 = {'a': 300, 'b': 200, 'd':400}\n",
    "d = Counter(d1) + Counter(d2)\n",
    "print(d)"
   ]
  },
  {
   "cell_type": "code",
   "execution_count": 3,
   "metadata": {},
   "outputs": [
    {
     "data": {
      "text/plain": [
       "Counter({'a': 1000, 'b': 3200, 'c': 1300})"
      ]
     },
     "execution_count": 3,
     "metadata": {},
     "output_type": "execute_result"
    }
   ],
   "source": [
    "dc1 = Counter(d1)\n",
    "dc1"
   ]
  },
  {
   "cell_type": "code",
   "execution_count": 14,
   "metadata": {},
   "outputs": [
    {
     "data": {
      "text/plain": [
       "Counter({'a': 5, 'b': 4, 'c': 3, 'd': 2, 'e': 1})"
      ]
     },
     "execution_count": 14,
     "metadata": {},
     "output_type": "execute_result"
    }
   ],
   "source": [
    "c = Counter('abcdeabcdabcaba')\n",
    "c"
   ]
  },
  {
   "cell_type": "code",
   "execution_count": 4,
   "metadata": {},
   "outputs": [
    {
     "data": {
      "text/plain": [
       "['__add__',\n",
       " '__and__',\n",
       " '__class__',\n",
       " '__contains__',\n",
       " '__delattr__',\n",
       " '__delitem__',\n",
       " '__dict__',\n",
       " '__dir__',\n",
       " '__doc__',\n",
       " '__eq__',\n",
       " '__format__',\n",
       " '__ge__',\n",
       " '__getattribute__',\n",
       " '__getitem__',\n",
       " '__gt__',\n",
       " '__hash__',\n",
       " '__iadd__',\n",
       " '__iand__',\n",
       " '__init__',\n",
       " '__init_subclass__',\n",
       " '__ior__',\n",
       " '__isub__',\n",
       " '__iter__',\n",
       " '__le__',\n",
       " '__len__',\n",
       " '__lt__',\n",
       " '__missing__',\n",
       " '__module__',\n",
       " '__ne__',\n",
       " '__neg__',\n",
       " '__new__',\n",
       " '__or__',\n",
       " '__pos__',\n",
       " '__reduce__',\n",
       " '__reduce_ex__',\n",
       " '__repr__',\n",
       " '__setattr__',\n",
       " '__setitem__',\n",
       " '__sizeof__',\n",
       " '__str__',\n",
       " '__sub__',\n",
       " '__subclasshook__',\n",
       " '__weakref__',\n",
       " '_keep_positive',\n",
       " 'clear',\n",
       " 'copy',\n",
       " 'elements',\n",
       " 'fromkeys',\n",
       " 'get',\n",
       " 'items',\n",
       " 'keys',\n",
       " 'most_common',\n",
       " 'pop',\n",
       " 'popitem',\n",
       " 'setdefault',\n",
       " 'subtract',\n",
       " 'update',\n",
       " 'values']"
      ]
     },
     "execution_count": 4,
     "metadata": {},
     "output_type": "execute_result"
    }
   ],
   "source": [
    "dir(c) # __add__ allows 2 counters to be added"
   ]
  },
  {
   "cell_type": "code",
   "execution_count": 9,
   "metadata": {},
   "outputs": [
    {
     "data": {
      "text/plain": [
       "Counter({'a': 5, 'b': 4, 'c': 3, 'd': 2, 'e': 1})"
      ]
     },
     "execution_count": 9,
     "metadata": {},
     "output_type": "execute_result"
    }
   ],
   "source": [
    "c"
   ]
  },
  {
   "cell_type": "code",
   "execution_count": 6,
   "metadata": {},
   "outputs": [
    {
     "data": {
      "text/plain": [
       "['a', 'a', 'a', 'a', 'a', 'b', 'b', 'b', 'b', 'c', 'c', 'c', 'd', 'd', 'e']"
      ]
     },
     "execution_count": 6,
     "metadata": {},
     "output_type": "execute_result"
    }
   ],
   "source": [
    "list(c.elements())"
   ]
  },
  {
   "cell_type": "code",
   "execution_count": 7,
   "metadata": {},
   "outputs": [
    {
     "data": {
      "text/plain": [
       "dict_values([5, 4, 3, 2, 1])"
      ]
     },
     "execution_count": 7,
     "metadata": {},
     "output_type": "execute_result"
    }
   ],
   "source": [
    "c.values()"
   ]
  },
  {
   "cell_type": "code",
   "execution_count": 10,
   "metadata": {},
   "outputs": [
    {
     "data": {
      "text/plain": [
       "[('a', 5), ('b', 4), ('c', 3)]"
      ]
     },
     "execution_count": 10,
     "metadata": {},
     "output_type": "execute_result"
    }
   ],
   "source": [
    "c.most_common(3)                # three most common elements"
   ]
  },
  {
   "cell_type": "code",
   "execution_count": 15,
   "metadata": {},
   "outputs": [
    {
     "data": {
      "text/plain": [
       "Counter({'s': 2, 'i': 2, 'm': 2, 'a': 2, 'l': 1, 'b': 1})"
      ]
     },
     "execution_count": 15,
     "metadata": {},
     "output_type": "execute_result"
    }
   ],
   "source": [
    "d = Counter('simsalabim')       # make another counter\n",
    "d"
   ]
  },
  {
   "cell_type": "code",
   "execution_count": 16,
   "metadata": {},
   "outputs": [
    {
     "data": {
      "text/plain": [
       "Counter({'a': 7,\n",
       "         'b': 5,\n",
       "         'c': 3,\n",
       "         'd': 2,\n",
       "         'e': 1,\n",
       "         's': 2,\n",
       "         'i': 2,\n",
       "         'm': 2,\n",
       "         'l': 1})"
      ]
     },
     "execution_count": 16,
     "metadata": {},
     "output_type": "execute_result"
    }
   ],
   "source": [
    "c.update(d)                     # add in the second counter\n",
    "c"
   ]
  },
  {
   "cell_type": "code",
   "execution_count": 17,
   "metadata": {},
   "outputs": [
    {
     "data": {
      "text/plain": [
       "7"
      ]
     },
     "execution_count": 17,
     "metadata": {},
     "output_type": "execute_result"
    }
   ],
   "source": [
    "c['a']"
   ]
  },
  {
   "cell_type": "code",
   "execution_count": 18,
   "metadata": {},
   "outputs": [
    {
     "data": {
      "text/plain": [
       "Counter({'a': 7, 'c': 3, 'd': 2, 'e': 1, 's': 2, 'i': 2, 'm': 2, 'l': 1})"
      ]
     },
     "execution_count": 18,
     "metadata": {},
     "output_type": "execute_result"
    }
   ],
   "source": [
    "del c['b']\n",
    "c # b is gone from counter"
   ]
  },
  {
   "cell_type": "code",
   "execution_count": 19,
   "metadata": {},
   "outputs": [
    {
     "data": {
      "text/plain": [
       "Counter({'a': 7, 'c': 3, 'd': 0, 'e': 1, 's': 2, 'i': 2, 'm': 2, 'l': 1})"
      ]
     },
     "execution_count": 19,
     "metadata": {},
     "output_type": "execute_result"
    }
   ],
   "source": [
    "c['d'] -= 2 \n",
    "c # d still present in counter"
   ]
  },
  {
   "cell_type": "code",
   "execution_count": 20,
   "metadata": {},
   "outputs": [
    {
     "data": {
      "text/plain": [
       "Counter()"
      ]
     },
     "execution_count": 20,
     "metadata": {},
     "output_type": "execute_result"
    }
   ],
   "source": [
    "c.clear()                       # empty the counter\n",
    "c"
   ]
  },
  {
   "cell_type": "markdown",
   "metadata": {},
   "source": [
    "---------------------"
   ]
  },
  {
   "cell_type": "code",
   "execution_count": null,
   "metadata": {},
   "outputs": [],
   "source": [
    "# write a program to print all unique values from a dictionary in a list"
   ]
  },
  {
   "cell_type": "code",
   "execution_count": 21,
   "metadata": {},
   "outputs": [
    {
     "name": "stdout",
     "output_type": "stream",
     "text": [
      "Unique Values:  {'S007', 'S005', 'S002', 'S001', 'S009'}\n"
     ]
    }
   ],
   "source": [
    "data = [{\"V\":\"S001\"}, {\"V\": \"S002\"}, {\"VI\": \"S001\"}, {\"VI\": \"S005\"}, {\"VII\":\"S005\"}, {\n",
    "\"V\":\"S009\"},{\"VIII\":\"S007\"}]\n",
    "\n",
    "#solution\n",
    "u_value = set( val for dic in data for val in dic.values())\n",
    "print(\"Unique Values: \",u_value)"
   ]
  },
  {
   "cell_type": "code",
   "execution_count": null,
   "metadata": {},
   "outputs": [],
   "source": []
  }
 ],
 "metadata": {
  "kernelspec": {
   "display_name": "Python 3",
   "language": "python",
   "name": "python3"
  },
  "language_info": {
   "codemirror_mode": {
    "name": "ipython",
    "version": 3
   },
   "file_extension": ".py",
   "mimetype": "text/x-python",
   "name": "python",
   "nbconvert_exporter": "python",
   "pygments_lexer": "ipython3",
   "version": "3.7.3"
  }
 },
 "nbformat": 4,
 "nbformat_minor": 4
}
