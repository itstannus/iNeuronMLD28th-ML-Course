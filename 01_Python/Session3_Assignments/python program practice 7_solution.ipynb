{
 "cells": [
  {
   "cell_type": "code",
   "execution_count": 1,
   "metadata": {},
   "outputs": [
    {
     "name": "stdout",
     "output_type": "stream",
     "text": [
      "('tuple', False, 3.2, 1)\n"
     ]
    }
   ],
   "source": [
    "#create a tuple from multiple data types\n",
    "tuple1 = (\"tuple\", False, 3.2, 1)\n",
    "print(tuple1)"
   ]
  },
  {
   "cell_type": "code",
   "execution_count": 2,
   "metadata": {},
   "outputs": [
    {
     "name": "stdout",
     "output_type": "stream",
     "text": [
      "(['tuple', 'dict', 'try'], [2.3, 4.5, 6.7], [1, 2, 3], [True, False, True])\n"
     ]
    }
   ],
   "source": [
    "a = ['tuple','dict','try']\n",
    "b = [2.3,4.5,6.7]\n",
    "c = [1,2,3]\n",
    "d = [True, False, True]\n",
    "\n",
    "tuple2 = (a,b,c,d)\n",
    "\n",
    "print(tuple2)"
   ]
  },
  {
   "cell_type": "code",
   "execution_count": null,
   "metadata": {},
   "outputs": [],
   "source": [
    "# Create a list of length 3 and Create a list of length 4, For each element in the first list,\n",
    "# Display the corresponding index element of the second list"
   ]
  },
  {
   "cell_type": "code",
   "execution_count": 22,
   "metadata": {},
   "outputs": [
    {
     "name": "stdout",
     "output_type": "stream",
     "text": [
      "data science  has the following options:  Red hat\n",
      "Blue mix  has the following options:  Blue mixx\n",
      "algorithms  has the following options:  Green gold\n"
     ]
    }
   ],
   "source": [
    "#Solution\n",
    "# Create a list of length 3:\n",
    "header = ['data science', 'Blue mix', 'algorithms']\n",
    "# Create a list of length 4:\n",
    "match = ['Red hat', 'Blue mixx','Green gold','Orange Ai']\n",
    "\n",
    "for h, m in zip(header,match):\n",
    "    print(h,\" has the following options: \", m)"
   ]
  },
  {
   "cell_type": "code",
   "execution_count": 20,
   "metadata": {},
   "outputs": [
    {
     "data": {
      "text/plain": [
       "[('data science', 'Red hat'),\n",
       " ('Blue mix', 'Blue mixx'),\n",
       " ('algorithms', 'Green gold')]"
      ]
     },
     "execution_count": 20,
     "metadata": {},
     "output_type": "execute_result"
    }
   ],
   "source": [
    "list(zip(header,match))"
   ]
  },
  {
   "cell_type": "code",
   "execution_count": 26,
   "metadata": {},
   "outputs": [],
   "source": [
    "# display an example of Nested For Loops Using List Comprehension\n",
    "# Create a list of length 3:\n",
    "headers = ['data science', 'Blue mix', 'algorithms']\n",
    "# Create a list of length 4:\n",
    "matches = ['Red hat', 'Blue mixx','Green gold','Orange Ai']"
   ]
  },
  {
   "cell_type": "code",
   "execution_count": 30,
   "metadata": {},
   "outputs": [
    {
     "data": {
      "text/plain": [
       "[('data science', 'Red hat'),\n",
       " ('data science', 'Blue mixx'),\n",
       " ('data science', 'Green gold'),\n",
       " ('data science', 'Orange Ai'),\n",
       " ('Blue mix', 'Red hat'),\n",
       " ('Blue mix', 'Blue mixx'),\n",
       " ('Blue mix', 'Green gold'),\n",
       " ('Blue mix', 'Orange Ai'),\n",
       " ('algorithms', 'Red hat'),\n",
       " ('algorithms', 'Blue mixx'),\n",
       " ('algorithms', 'Green gold'),\n",
       " ('algorithms', 'Orange Ai')]"
      ]
     },
     "execution_count": 30,
     "metadata": {},
     "output_type": "execute_result"
    }
   ],
   "source": [
    "[ (header,match) for header in headers for match in matches]\n"
   ]
  },
  {
   "cell_type": "code",
   "execution_count": 31,
   "metadata": {},
   "outputs": [],
   "source": [
    "#write a program for breaking and exiting out of loop\n",
    "# Create a list:\n",
    "armies = ['Red Army', 'Blue Army', 'Green Army']"
   ]
  },
  {
   "cell_type": "code",
   "execution_count": 32,
   "metadata": {},
   "outputs": [
    {
     "name": "stdout",
     "output_type": "stream",
     "text": [
      "Red Army\n",
      "Blue Army Found\n"
     ]
    }
   ],
   "source": [
    "for army in armies:\n",
    "    if(army == 'Blue Army'):\n",
    "        print('Blue Army Found')\n",
    "        break\n",
    "    print(army)"
   ]
  },
  {
   "cell_type": "code",
   "execution_count": 33,
   "metadata": {},
   "outputs": [
    {
     "name": "stdout",
     "output_type": "stream",
     "text": [
      "Red Army\n",
      "Blue Army\n",
      "Green Army\n",
      "Yellow Army Not Found\n"
     ]
    }
   ],
   "source": [
    "#A loop will exit when completed, but using an else statement we can add an action at the conclusion of the loop if it hasn’t been exited earlier.\n",
    "for army in armies:\n",
    "    if(army == 'Yellow Army'):\n",
    "        print('Yellow Army Found')\n",
    "        break\n",
    "    print(army)\n",
    "else:\n",
    "    print('Yellow Army Not Found')"
   ]
  },
  {
   "cell_type": "code",
   "execution_count": null,
   "metadata": {},
   "outputs": [],
   "source": []
  },
  {
   "cell_type": "code",
   "execution_count": null,
   "metadata": {},
   "outputs": [],
   "source": []
  },
  {
   "cell_type": "code",
   "execution_count": null,
   "metadata": {},
   "outputs": [],
   "source": []
  }
 ],
 "metadata": {
  "kernelspec": {
   "display_name": "Python 3",
   "language": "python",
   "name": "python3"
  },
  "language_info": {
   "codemirror_mode": {
    "name": "ipython",
    "version": 3
   },
   "file_extension": ".py",
   "mimetype": "text/x-python",
   "name": "python",
   "nbconvert_exporter": "python",
   "pygments_lexer": "ipython3",
   "version": "3.7.3"
  }
 },
 "nbformat": 4,
 "nbformat_minor": 4
}
