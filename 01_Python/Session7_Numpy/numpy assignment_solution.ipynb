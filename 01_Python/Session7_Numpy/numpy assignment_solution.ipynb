{
 "cells": [
  {
   "cell_type": "markdown",
   "metadata": {},
   "source": [
    "# Numpy Assignment"
   ]
  },
  {
   "cell_type": "code",
   "execution_count": null,
   "metadata": {},
   "outputs": [],
   "source": [
    "# 1. Write a function so that the columns of the output matrix are powers of the input\n",
    "# vector.\n",
    "# The order of the powers is determined by the increasing boolean argument. Specifically, when\n",
    "# increasing is False, the i-th output column is the input vector raised element-wise to the power\n",
    "# of N - i - 1.\n",
    "# HINT: Such a matrix with a geometric progression in each row is named for AlexandreTheophile Vandermonde."
   ]
  },
  {
   "cell_type": "markdown",
   "metadata": {},
   "source": [
    "<img src=\"Vandermonde_formula.jpg\">"
   ]
  },
  {
   "cell_type": "code",
   "execution_count": 56,
   "metadata": {},
   "outputs": [
    {
     "name": "stdout",
     "output_type": "stream",
     "text": [
      "[[  1   1   1   1]\n",
      " [  1   2   4   8]\n",
      " [  1   3   9  27]\n",
      " [  1   4  16  64]\n",
      " [  1   5  25 125]]\n",
      "[[  1   1   1   1]\n",
      " [  8   4   2   1]\n",
      " [ 27   9   3   1]\n",
      " [ 64  16   4   1]\n",
      " [125  25   5   1]]\n"
     ]
    }
   ],
   "source": [
    "import numpy as np\n",
    "x = np.array([1,2,3,4,5])\n",
    "N = 4\n",
    "print(np.vander(x,N, True))\n",
    "print(np.vander(x,N, False))"
   ]
  },
  {
   "cell_type": "code",
   "execution_count": 60,
   "metadata": {},
   "outputs": [
    {
     "name": "stdout",
     "output_type": "stream",
     "text": [
      "[[  1   1   1   1]\n",
      " [  1   2   4   8]\n",
      " [  1   3   9  27]\n",
      " [  1   4  16  64]\n",
      " [  1   5  25 125]]\n",
      "[[  1   1   1   1]\n",
      " [  8   4   2   1]\n",
      " [ 27   9   3   1]\n",
      " [ 64  16   4   1]\n",
      " [125  25   5   1]]\n"
     ]
    }
   ],
   "source": [
    "import numpy as np\n",
    "def my_vander(x, N, increasing):\n",
    "    x = np.array(x, ndmin=2)\n",
    "    x = x.T\n",
    "    out = np.array([])\n",
    "    if increasing:\n",
    "        powers = range(N)\n",
    "    else:\n",
    "        powers = range(N-1, -1, -1)\n",
    "        \n",
    "    for i in powers:\n",
    "        if(out.size == 0):\n",
    "            out = pow(x,i)\n",
    "            continue\n",
    "        else:\n",
    "            out = np.append(out, pow(x,i), axis=1)\n",
    "    return out\n",
    "\n",
    "x = np.array([1,2,3,4,5])\n",
    "N = 4 # no. of columns\n",
    "increasing = True\n",
    "print( my_vander(x, N, increasing))\n",
    "\n",
    "increasing = False\n",
    "print( my_vander(x, N, increasing))"
   ]
  },
  {
   "cell_type": "markdown",
   "metadata": {},
   "source": [
    "-----------------------"
   ]
  },
  {
   "cell_type": "code",
   "execution_count": null,
   "metadata": {},
   "outputs": [],
   "source": [
    "# Given a sequence of n values x1, x2, ..., xn and a window size k>0, the k-th moving average of\n",
    "# the given sequence is defined as follows:\n",
    "# The moving average sequence has n-k+1 elements as shown below.\n",
    "# The moving averages with k=4 of a ten-value sequence (n=10) is shown below\n",
    "# i 1 2 3 4 5 6 7 8 9 10\n",
    "# ===== == == == == == == == == == ==\n",
    "# Input 10 20 30 40 50 60 70 80 90 100\n",
    "# y1 25 = (10+20+30+40)/4\n",
    "# y2 35 = (20+30+40+50)/4\n",
    "# y3 45 = (30+40+50+60)/4\n",
    "# y4 55 = (40+50+60+70)/4\n",
    "# y5 65 = (50+60+70+80)/4\n",
    "# y6 75 = (60+70+80+90)/4\n",
    "# y7 85 = (70+80+90+100)/4\n",
    "# Thus, the moving average sequence has n-k+1=10-4+1=7 values.\n",
    "# Question: Write a function to find moving average in an array over a window:\n",
    "#  Test it over [3, 5, 7, 2, 8, 10, 11, 65, 72, 81, 99, 100, 150] and window of 3."
   ]
  },
  {
   "cell_type": "code",
   "execution_count": 62,
   "metadata": {},
   "outputs": [
    {
     "data": {
      "text/plain": [
       "array([ 1,  3,  6, 10, 15, 21, 28, 36, 45, 55])"
      ]
     },
     "execution_count": 62,
     "metadata": {},
     "output_type": "execute_result"
    }
   ],
   "source": [
    "np.cumsum([1,2,3,4,5,6,7,8,9,10])"
   ]
  },
  {
   "cell_type": "code",
   "execution_count": 72,
   "metadata": {},
   "outputs": [
    {
     "data": {
      "text/plain": [
       "array([2., 3., 4., 5., 6.])"
      ]
     },
     "execution_count": 72,
     "metadata": {},
     "output_type": "execute_result"
    }
   ],
   "source": [
    "x = [1,2,3,4,5,6,7]\n",
    "n= len(x)\n",
    "k = 3\n",
    "out = np.cumsum(x)\n",
    "out[k:] = out[k:] - out[:n-k] # n-k elements affected\n",
    "out[k-1:]/k"
   ]
  },
  {
   "cell_type": "code",
   "execution_count": 85,
   "metadata": {},
   "outputs": [
    {
     "name": "stdout",
     "output_type": "stream",
     "text": [
      "For x = [1, 2, 3, 4, 5, 6, 7] and k = 3\n",
      "Kth Moving average sequence : \n",
      "[2. 3. 4. 5. 6.]\n",
      "--------------------------------------------------\n",
      "For x = [10, 20, 30, 40, 50, 60, 70, 80, 90, 100] and k = 4\n",
      "Kth Moving average sequence : \n",
      "[25. 35. 45. 55. 65. 75. 85.]\n",
      "--------------------------------------------------\n",
      "For x = [3, 5, 7, 2, 8, 10, 11, 65, 72, 81, 99, 100, 150] and k = 3\n",
      "Kth Moving average sequence : \n",
      "[  5.           4.66666667   5.66666667   6.66666667   9.66666667\n",
      "  28.66666667  49.33333333  72.66666667  84.          93.33333333\n",
      " 116.33333333]\n",
      "--------------------------------------------------\n"
     ]
    }
   ],
   "source": [
    "def moving_avg(x, k):\n",
    "    '''\n",
    "    Returns the k-th moving average sequence for given inut sequence x\n",
    "    \n",
    "    Parameters\n",
    "    ----------\n",
    "    x : array like \n",
    "        input sequence\n",
    "    k : int \n",
    "        k > 0 window size of moving average \n",
    "    Returns\n",
    "    -------\n",
    "    out : ndarray.\n",
    "        A new array holding the result is returned. \n",
    "        The result has size n-k+1 elements'''\n",
    "    n = len(x)\n",
    "    out = np.cumsum(x)\n",
    "    out[k:] = out[k:] - out[:n-k] # n-k elements affected\n",
    "    return out[k-1:]/k\n",
    "\n",
    "x = [1,2,3,4,5,6,7]\n",
    "k = 3\n",
    "print(\"For x = {} and k = {}\".format(x,k))\n",
    "print(\"Kth Moving average sequence : \")\n",
    "print(moving_avg(x, k))\n",
    "print(\"-\"*50)\n",
    "x = [10, 20, 30, 40, 50, 60, 70, 80, 90, 100]\n",
    "k = 4\n",
    "print(\"For x = {} and k = {}\".format(x,k))\n",
    "print(\"Kth Moving average sequence : \")\n",
    "print(moving_avg(x, k))\n",
    "print(\"-\"*50)\n",
    "x = [3, 5, 7, 2, 8, 10, 11, 65, 72, 81, 99, 100, 150]\n",
    "k = 3\n",
    "print(\"For x = {} and k = {}\".format(x,k))\n",
    "print(\"Kth Moving average sequence : \")\n",
    "print(moving_avg(x, k))\n",
    "print(\"-\"*50)"
   ]
  },
  {
   "cell_type": "code",
   "execution_count": null,
   "metadata": {},
   "outputs": [],
   "source": []
  },
  {
   "cell_type": "code",
   "execution_count": null,
   "metadata": {},
   "outputs": [],
   "source": []
  },
  {
   "cell_type": "code",
   "execution_count": null,
   "metadata": {},
   "outputs": [],
   "source": []
  },
  {
   "cell_type": "code",
   "execution_count": null,
   "metadata": {},
   "outputs": [],
   "source": []
  },
  {
   "cell_type": "code",
   "execution_count": null,
   "metadata": {},
   "outputs": [],
   "source": []
  },
  {
   "cell_type": "code",
   "execution_count": null,
   "metadata": {},
   "outputs": [],
   "source": []
  },
  {
   "cell_type": "code",
   "execution_count": null,
   "metadata": {},
   "outputs": [],
   "source": []
  },
  {
   "cell_type": "code",
   "execution_count": null,
   "metadata": {},
   "outputs": [],
   "source": []
  }
 ],
 "metadata": {
  "kernelspec": {
   "display_name": "Python 3",
   "language": "python",
   "name": "python3"
  },
  "language_info": {
   "codemirror_mode": {
    "name": "ipython",
    "version": 3
   },
   "file_extension": ".py",
   "mimetype": "text/x-python",
   "name": "python",
   "nbconvert_exporter": "python",
   "pygments_lexer": "ipython3",
   "version": "3.7.4"
  }
 },
 "nbformat": 4,
 "nbformat_minor": 4
}
