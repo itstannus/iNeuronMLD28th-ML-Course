{
 "cells": [
  {
   "cell_type": "code",
   "execution_count": 11,
   "metadata": {},
   "outputs": [],
   "source": [
    "total_pages=24"
   ]
  },
  {
   "cell_type": "code",
   "execution_count": 12,
   "metadata": {},
   "outputs": [
    {
     "name": "stdout",
     "output_type": "stream",
     "text": [
      "1,2,5,6,9,10,13,14,17,18,21,22\n",
      "3,4,7,8,11,12,15,16,19,20,23,24\n"
     ]
    }
   ],
   "source": [
    "first_slot=[]\n",
    "second_slot=[]\n",
    "for page in range(1,total_pages+1,4):\n",
    "    first_slot.append(page)\n",
    "    page=page+1\n",
    "    first_slot.append(page)\n",
    "    page=page+1\n",
    "    second_slot.append(page)\n",
    "    page=page+1\n",
    "    second_slot.append(page)\n",
    "    page=page+1\n",
    "    \n",
    "print(*first_slot, sep=\",\")\n",
    "print(*second_slot, sep=\",\")"
   ]
  }
 ],
 "metadata": {
  "kernelspec": {
   "display_name": "Python 3",
   "language": "python",
   "name": "python3"
  },
  "language_info": {
   "codemirror_mode": {
    "name": "ipython",
    "version": 3
   },
   "file_extension": ".py",
   "mimetype": "text/x-python",
   "name": "python",
   "nbconvert_exporter": "python",
   "pygments_lexer": "ipython3",
   "version": "3.7.4"
  }
 },
 "nbformat": 4,
 "nbformat_minor": 4
}
