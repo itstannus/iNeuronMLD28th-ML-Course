{
 "cells": [
  {
   "cell_type": "code",
   "execution_count": 1,
   "metadata": {},
   "outputs": [],
   "source": [
    "import pymongo # package which enables us to connect to the MongoDB"
   ]
  },
  {
   "cell_type": "code",
   "execution_count": 2,
   "metadata": {},
   "outputs": [],
   "source": [
    "dbConn = pymongo.MongoClient(\"mongodb://localhost:27017/\")  \n",
    "# connecting to the locally running MongoDB Instance             "
   ]
  },
  {
   "cell_type": "code",
   "execution_count": 13,
   "metadata": {},
   "outputs": [],
   "source": [
    "db = dbConn['crawlerDB'] \n",
    "# connecting to the databse named crawlerDB present in the mongoDB"
   ]
  },
  {
   "cell_type": "code",
   "execution_count": 14,
   "metadata": {},
   "outputs": [
    {
     "data": {
      "text/plain": [
       "Database(MongoClient(host=['localhost:27017'], document_class=dict, tz_aware=False, connect=True), 'crawlerDB')"
      ]
     },
     "execution_count": 14,
     "metadata": {},
     "output_type": "execute_result"
    }
   ],
   "source": [
    "db"
   ]
  },
  {
   "cell_type": "code",
   "execution_count": 19,
   "metadata": {},
   "outputs": [],
   "source": [
    "collection=db['samsung']  \n",
    "# obtaining the collection name"
   ]
  },
  {
   "cell_type": "code",
   "execution_count": 20,
   "metadata": {},
   "outputs": [],
   "source": [
    "mydict = {\"Product\": \"samsung\", \"Name\": \"testName3\", \"Rating\": '2'} \n",
    "# creating key value pairs for inserting into the DB\n",
    "\n",
    "x = collection.insert_one(mydict)  \n",
    "# inserting record into the collection\n"
   ]
  },
  {
   "cell_type": "code",
   "execution_count": 21,
   "metadata": {},
   "outputs": [
    {
     "name": "stdout",
     "output_type": "stream",
     "text": [
      "product: samsung, Name: testName, Rating: 3\n",
      "product: samsung, Name: testName2, Rating: 4\n",
      "product: samsung, Name: testName3, Rating: 2\n"
     ]
    }
   ],
   "source": [
    "reviews= collection.find({})  \n",
    "# Finding all the records in the collection named Samsung\n",
    "for review in reviews:\n",
    "    print(\"product: \"+review['Product']+\", \"+\"Name: \"+review['Name']+\", \"+\"Rating: \"+review['Rating'])"
   ]
  },
  {
   "cell_type": "code",
   "execution_count": 17,
   "metadata": {},
   "outputs": [
    {
     "name": "stdout",
     "output_type": "stream",
     "text": [
      "['admin', 'config', 'crawlerDB', 'local']\n"
     ]
    }
   ],
   "source": [
    "#show all databases\n",
    "print(dbConn.list_database_names())"
   ]
  },
  {
   "cell_type": "code",
   "execution_count": 24,
   "metadata": {},
   "outputs": [
    {
     "name": "stdout",
     "output_type": "stream",
     "text": [
      "DB not present\n"
     ]
    }
   ],
   "source": [
    "#check if db exists\n",
    "db_list=dbConn.list_database_names()\n",
    "db_name=\"crawlerDB1\"\n",
    "\n",
    "#finds the index of the argument\n",
    "if db_name in db_list: \n",
    "    print(\"DB present\")\n",
    "else:\n",
    "    print(\"DB not present\")"
   ]
  },
  {
   "cell_type": "code",
   "execution_count": 26,
   "metadata": {},
   "outputs": [
    {
     "name": "stdout",
     "output_type": "stream",
     "text": [
      "Collection exists\n"
     ]
    }
   ],
   "source": [
    "collection_name=\"samsung\"\n",
    "collection_list= db.list_collection_names()\n",
    "\n",
    "#check if collection name exists\n",
    "if collection_name in collection_list:\n",
    "    print(\"Collection exists\")\n",
    "else:\n",
    "    print(\"Collection does not exists\")\n"
   ]
  },
  {
   "cell_type": "code",
   "execution_count": 27,
   "metadata": {},
   "outputs": [],
   "source": [
    "mydict = {\"Product\": \"samsung4\", \"Name\": \"testName4\", \"Rating\": '4'} \n",
    "# creating key value pairs for inserting into the DB\n",
    "\n",
    "x = collection.insert_one(mydict)\n",
    "# inserting record into the collection"
   ]
  },
  {
   "cell_type": "code",
   "execution_count": 28,
   "metadata": {},
   "outputs": [
    {
     "name": "stdout",
     "output_type": "stream",
     "text": [
      "5e9712056f7ce05a7c791aa0\n"
     ]
    }
   ],
   "source": [
    "print(x.inserted_id) # unique id for insert"
   ]
  },
  {
   "cell_type": "code",
   "execution_count": 29,
   "metadata": {},
   "outputs": [],
   "source": [
    "mydicts = [\n",
    "    {\"Product\": \"samsung4\", \"Name\": \"testName42\", \"Rating\": '3'},\n",
    "    {\"Product\": \"samsung4\", \"Name\": \"testName43\", \"Rating\": '5'} \n",
    "]\n",
    "# creating key value pairs for inserting into the DB\n",
    "\n",
    "x = collection.insert_many(mydicts)\n",
    "# inserting record into the collection"
   ]
  },
  {
   "cell_type": "code",
   "execution_count": 31,
   "metadata": {},
   "outputs": [
    {
     "name": "stdout",
     "output_type": "stream",
     "text": [
      "[ObjectId('5e9713cd6f7ce05a7c791aa1'), ObjectId('5e9713cd6f7ce05a7c791aa2')]\n"
     ]
    }
   ],
   "source": [
    "print(x.inserted_ids)"
   ]
  },
  {
   "cell_type": "code",
   "execution_count": 32,
   "metadata": {},
   "outputs": [],
   "source": [
    "mydict = {\"Product\": \"samsung4\", \"Name\": \"testName4\", \"Rating\": '4'} \n",
    "# creating key value pairs for inserting into the DB"
   ]
  },
  {
   "cell_type": "markdown",
   "metadata": {},
   "source": [
    "if PK defined then it will throw an error for duplicate key"
   ]
  },
  {
   "cell_type": "code",
   "execution_count": 36,
   "metadata": {},
   "outputs": [
    {
     "data": {
      "text/plain": [
       "{'_id': ObjectId('5e9712056f7ce05a7c791aa0'),\n",
       " 'Product': 'samsung4',\n",
       " 'Name': 'testName4',\n",
       " 'Rating': '4'}"
      ]
     },
     "execution_count": 36,
     "metadata": {},
     "output_type": "execute_result"
    }
   ],
   "source": [
    "#all records\n",
    "reviews= collection.find({}) \n",
    "# 3rd doc\n",
    "reviews[3]"
   ]
  },
  {
   "cell_type": "code",
   "execution_count": null,
   "metadata": {},
   "outputs": [],
   "source": [
    "for i in range(0,9): if(i <= 4): for j in range(0,i+1): print(\"*\", end=\" \") print(\"\\n\") else: for j in range(i,9): print(\"*\", end=\" \") print(\"\\n\") "
   ]
  }
 ],
 "metadata": {
  "kernelspec": {
   "display_name": "Python 3",
   "language": "python",
   "name": "python3"
  },
  "language_info": {
   "codemirror_mode": {
    "name": "ipython",
    "version": 3
   },
   "file_extension": ".py",
   "mimetype": "text/x-python",
   "name": "python",
   "nbconvert_exporter": "python",
   "pygments_lexer": "ipython3",
   "version": "3.7.3"
  }
 },
 "nbformat": 4,
 "nbformat_minor": 4
}
