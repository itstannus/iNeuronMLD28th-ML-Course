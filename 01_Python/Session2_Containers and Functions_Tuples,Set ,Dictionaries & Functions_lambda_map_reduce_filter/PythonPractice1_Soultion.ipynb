{
 "cells": [
  {
   "cell_type": "markdown",
   "metadata": {},
   "source": [
    "Write a Python program to sum all the items in a list."
   ]
  },
  {
   "cell_type": "code",
   "execution_count": 5,
   "metadata": {},
   "outputs": [
    {
     "name": "stdout",
     "output_type": "stream",
     "text": [
      "60\n"
     ]
    }
   ],
   "source": [
    "def sum_nums(lst):\n",
    "    sum = 0\n",
    "    for i in lst:\n",
    "        sum+=i\n",
    "    return sum\n",
    "\n",
    "print(sum_nums([10,20,30]))"
   ]
  },
  {
   "cell_type": "markdown",
   "metadata": {},
   "source": [
    "Write a Python program to count the number of strings where the string length is 2 or\n",
    "more and the first and last character are same from a given list of strings."
   ]
  },
  {
   "cell_type": "code",
   "execution_count": 19,
   "metadata": {},
   "outputs": [
    {
     "data": {
      "text/plain": [
       "4"
      ]
     },
     "execution_count": 19,
     "metadata": {},
     "output_type": "execute_result"
    }
   ],
   "source": [
    "def match_words(word_list):\n",
    "    count=0\n",
    "    for word in word_list:\n",
    "        if( len(word)>=2 and word[0]==word[-1]):\n",
    "            count+=1\n",
    "    return count\n",
    "\n",
    "word_list= ['abc', 'xyz', 'aba', '1221','bhgsskknb','aa']\n",
    "match_words(word_list)\n"
   ]
  },
  {
   "cell_type": "markdown",
   "metadata": {},
   "source": [
    "Write a Python program to remove duplicates from a list"
   ]
  },
  {
   "cell_type": "code",
   "execution_count": 18,
   "metadata": {},
   "outputs": [
    {
     "name": "stdout",
     "output_type": "stream",
     "text": [
      "[10, 30, 40, 50, 20]\n"
     ]
    }
   ],
   "source": [
    "def remove_duplicates(lst):\n",
    "    for num in lst:\n",
    "        if lst.count(num) > 1: # if duplicate\n",
    "            lst.remove(num)\n",
    "    return lst\n",
    "\n",
    "lst = [10,20,30,30,40,50,20]\n",
    "print(remove_duplicates(lst))"
   ]
  },
  {
   "cell_type": "code",
   "execution_count": 20,
   "metadata": {},
   "outputs": [
    {
     "name": "stdout",
     "output_type": "stream",
     "text": [
      "{40, 10, 50, 20, 30}\n"
     ]
    }
   ],
   "source": [
    "lst = [10,20,30,30,40,50,20]\n",
    "print(set(lst))"
   ]
  },
  {
   "cell_type": "code",
   "execution_count": 27,
   "metadata": {},
   "outputs": [
    {
     "data": {
      "text/plain": [
       "{10, 20, 30, 40, 50}"
      ]
     },
     "execution_count": 27,
     "metadata": {},
     "output_type": "execute_result"
    }
   ],
   "source": [
    "lst = [10,20,30,30,40,50,20]\n",
    "uniq= {i for i in lst}\n",
    "uniq"
   ]
  }
 ],
 "metadata": {
  "kernelspec": {
   "display_name": "Python 3",
   "language": "python",
   "name": "python3"
  },
  "language_info": {
   "codemirror_mode": {
    "name": "ipython",
    "version": 3
   },
   "file_extension": ".py",
   "mimetype": "text/x-python",
   "name": "python",
   "nbconvert_exporter": "python",
   "pygments_lexer": "ipython3",
   "version": "3.7.3"
  }
 },
 "nbformat": 4,
 "nbformat_minor": 4
}
