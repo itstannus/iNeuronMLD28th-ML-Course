{
 "cells": [
  {
   "cell_type": "markdown",
   "metadata": {},
   "source": [
    "# Assignment 2\n",
    "1. Write a program which accepts a sequence of comma-separated numbers from console\n",
    "and generate a list.\n"
   ]
  },
  {
   "cell_type": "code",
   "execution_count": 5,
   "metadata": {},
   "outputs": [
    {
     "name": "stdin",
     "output_type": "stream",
     "text": [
      "Enter comma separated numbers :  10,20,30\n"
     ]
    },
    {
     "data": {
      "text/plain": [
       "[10, 20, 30]"
      ]
     },
     "execution_count": 5,
     "metadata": {},
     "output_type": "execute_result"
    }
   ],
   "source": [
    "txt=input(\"Enter comma separated numbers : \")\n",
    "nums=[int(i) for i in txt.split(\",\")]\n",
    "nums"
   ]
  },
  {
   "cell_type": "markdown",
   "metadata": {},
   "source": [
    "1. Create the below pattern using nested for loop in Python."
   ]
  },
  {
   "cell_type": "markdown",
   "metadata": {},
   "source": [
    "\n",
    "&ast;\n",
    "<br>\n",
    "&ast; &ast;\n",
    "<br>\n",
    "&ast; &ast; &ast;\n",
    "<br>\n",
    "&ast; &ast; &ast; &ast;\n",
    "<br>\n",
    "&ast; &ast; &ast; &ast; &ast;\n",
    "<br>\n",
    "&ast; &ast; &ast; &ast;\n",
    "<br>\n",
    "&ast; &ast; &ast;\n",
    "<br>\n",
    "&ast; &ast;\n",
    "<br>\n",
    "&ast;\n"
   ]
  },
  {
   "cell_type": "markdown",
   "metadata": {},
   "source": [
    "\\*\n",
    "<br>\n",
    "\\* \\*\n",
    "<br>\n",
    "\\* \\* \\*\n",
    "<br>\n",
    "\\* \\* \\* \\*\n",
    "<br>\n",
    "\\* \\* \\* \\* \\*\n",
    "<br>\n",
    "\\* \\* \\* \\*\n",
    "<br>\n",
    "\\* \\* \\*\n",
    "<br>\n",
    "\\* \\*\n",
    "<br>\n",
    "\\*"
   ]
  },
  {
   "cell_type": "code",
   "execution_count": 10,
   "metadata": {},
   "outputs": [
    {
     "name": "stdout",
     "output_type": "stream",
     "text": [
      "*\n",
      "* *\n",
      "* * *\n",
      "* * * *\n",
      "* * * * *\n",
      "* * * *\n",
      "* * *\n",
      "* *\n",
      "*\n"
     ]
    }
   ],
   "source": [
    "# Single loop : reduced time complexity\n",
    "lines=9\n",
    "mid_row=int((lines+1)/2)\n",
    "for row_num in range(1,lines+1):\n",
    "    if(row_num <= mid_row):\n",
    "        pattern=[\"*\"] * row_num\n",
    "    else:\n",
    "        pattern=[\"*\"] * (lines+1-row_num)\n",
    "    print(*pattern)    \n",
    "    "
   ]
  },
  {
   "cell_type": "markdown",
   "metadata": {},
   "source": [
    "2. Write a Python program to reverse a word after accepting the input from the user.\n",
    "Sample Output:\n",
    "Input word: ineuron\n",
    "Output: norueni"
   ]
  },
  {
   "cell_type": "code",
   "execution_count": 12,
   "metadata": {},
   "outputs": [
    {
     "name": "stdin",
     "output_type": "stream",
     "text": [
      "Input word:  ineuron\n"
     ]
    },
    {
     "name": "stdout",
     "output_type": "stream",
     "text": [
      "Output:  norueni\n"
     ]
    }
   ],
   "source": [
    "word=input(\"Input word: \")\n",
    "print(\"Output: \", word[::-1])"
   ]
  }
 ],
 "metadata": {
  "kernelspec": {
   "display_name": "Python 3",
   "language": "python",
   "name": "python3"
  },
  "language_info": {
   "codemirror_mode": {
    "name": "ipython",
    "version": 3
   },
   "file_extension": ".py",
   "mimetype": "text/x-python",
   "name": "python",
   "nbconvert_exporter": "python",
   "pygments_lexer": "ipython3",
   "version": "3.7.3"
  }
 },
 "nbformat": 4,
 "nbformat_minor": 4
}
